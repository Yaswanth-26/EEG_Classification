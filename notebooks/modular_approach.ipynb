{
 "cells": [
  {
   "cell_type": "markdown",
   "metadata": {},
   "source": [
    "# EEG Classification - Modular Approach\n",
    "\n",
    "This notebook demonstrates how to use the modular code structure for EEG classification."
   ]
  },
  {
   "cell_type": "markdown",
   "metadata": {},
   "source": [
    "## Import Required Modules"
   ]
  },
  {
   "cell_type": "code",
   "execution_count": null,
   "metadata": {},
   "outputs": [],
   "source": [
    "import sys\n",
    "import os\n",
    "import numpy as np\n",
    "import matplotlib.pyplot as plt\n",
    "\n",
    "# Add the parent directory to the path to import our modules\n",
    "sys.path.append('..')\n",
    "\n",
    "# Import our custom modules\n",
    "from src.data_processing import load_eeg_data, create_binary_labels, create_tri_labels\n",
    "from src.preprocessing import preprocess_eeg_data, plot_eeg_signal\n",
    "from src.models import prepare_data_for_model, create_lstm_model, create_bilstm_model, create_lstm_cnn_model, train_model\n",
    "from src.evaluation import evaluate_binary_model, evaluate_multiclass_model, plot_training_history, print_model_evaluation\n",
    "from src.visualization import plot_eeg_by_class, visualize_data_clusters"
   ]
  },
  {
   "cell_type": "markdown",
   "metadata": {},
   "source": [
    "## Load and Prepare Data"
   ]
  },
  {
   "cell_type": "code",
   "execution_count": null,
   "metadata": {},
   "outputs": [],
   "source": [
    "# Set the path to your data directory\n",
    "data_folder = '../data'\n",
    "\n",
    "# Load data\n",
    "all_data, all_names = load_eeg_data(data_folder)\n",
    "print(f\"Loaded {len(all_data)} samples\")\n",
    "print(f\"Data shape: {all_data.shape}\")"
   ]
  },
  {
   "cell_type": "code",
   "execution_count": null,
   "metadata": {},
   "outputs": [],
   "source": [
    "# Create labels\n",
    "binary_labels = create_binary_labels(all_names)\n",
    "tri_labels = create_tri_labels(all_names)\n",
    "\n",
    "# Display label distribution\n",
    "binary_counts = np.bincount(binary_labels)\n",
    "tri_counts = np.bincount(tri_labels)\n",
    "\n",
    "print(\"Binary label distribution:\")\n",
    "print(f\"Healthy: {binary_counts[0]}\")\n",
    "print(f\"Seizure: {binary_counts[1]}\")\n",
    "print(\"\\nThree-class label distribution:\")\n",
    "print(f\"Healthy: {tri_counts[0]}\")\n",
    "print(f\"Mild Seizure: {tri_counts[1]}\")\n",
    "print(f\"Seizure: {tri_counts[2]}\")"
   ]
  },
  {
   "cell_type": "markdown",
   "metadata": {},
   "source": [
    "## Preprocess the Data"
   ]
  },
  {
   "cell_type": "code",
   "execution_count": null,
   "metadata": {},
   "outputs": [],
   "source": [
    "# Plot a raw EEG signal\n",
    "plot_eeg_signal(all_data[0], title=\"Raw EEG Signal\", stage=\"Before Preprocessing\")"
   ]
  },
  {
   "cell_type": "code",
   "execution_count": null,
   "metadata": {},
   "outputs": [],
   "source": [
    "# Preprocess each EEG signal\n",
    "processed_data = np.array([preprocess_eeg_data(data) for data in all_data])\n",
    "\n",
    "# Plot the preprocessed signal\n",
    "plot_eeg_signal(processed_data[0], title=\"Preprocessed EEG Signal\", stage=\"After Preprocessing\")"
   ]
  },
  {
   "cell_type": "markdown",
   "metadata": {},
   "source": [
    "## Visualize Data by Class"
   ]
  },
  {
   "cell_type": "code",
   "execution_count": null,
   "metadata": {},
   "outputs": [],
   "source": [
    "# Plot examples from each class (binary classification)\n",
    "plot_eeg_by_class(processed_data, binary_labels, class_names=['Healthy', 'Seizure'], samples_per_class=2)"
   ]
  },
  {
   "cell_type": "code",
   "execution_count": null,
   "metadata": {},
   "outputs": [],
   "source": [
    "# Plot examples from each class (multi-class classification)\n",
    "plot_eeg_by_class(processed_data, tri_labels, class_names=['Healthy', 'Mild Seizure', 'Seizure'], samples_per_class=2)"
   ]
  },
  {
   "cell_type": "markdown",
   "metadata": {},
   "source": [
    "## Visualize Data Clusters"
   ]
  },
  {
   "cell_type": "code",
   "execution_count": null,
   "metadata": {},
   "outputs": [],
   "source": [
    "# Visualize binary class data using PCA\n",
    "visualize_data_clusters(processed_data, binary_labels, method='pca', class_names=['Healthy', 'Seizure'])"
   ]
  },
  {
   "cell_type": "code",
   "execution_count": null,
   "metadata": {},
   "outputs": [],
   "source": [
    "# Visualize multi-class data using t-SNE (this may take a while)\n",
    "visualize_data_clusters(processed_data, tri_labels, method='tsne', class_names=['Healthy', 'Mild Seizure', 'Seizure'])"
   ]
  },
  {
   "cell_type": "markdown",
   "metadata": {},
   "source": [
    "## Prepare Data for Modeling"
   ]
  },
  {
   "cell_type": "code",
   "execution_count": null,
   "metadata": {},
   "outputs": [],
   "source": [
    "# For binary classification\n",
    "X_train_bin, X_test_bin, y_train_bin, y_test_bin = prepare_data_for_model(processed_data, binary_labels)\n",
    "\n",
    "# For multi-class classification\n",
    "X_train_tri, X_test_tri, y_train_tri, y_test_tri = prepare_data_for_model(processed_data, tri_labels)"
   ]
  },
  {
   "cell_type": "markdown",
   "metadata": {},
   "source": [
    "## Binary Classification with LSTM Model"
   ]
  },
  {
   "cell_type": "code",
   "execution_count": null,
   "metadata": {},
   "outputs": [],
   "source": [
    "# Create the LSTM model for binary classification\n",
    "input_shape = (X_train_bin.shape[1], 1)  # (timesteps, features)\n",
    "lstm_model = create_lstm_model(input_shape, num_classes=1)\n",
    "lstm_model.summary()"
   ]
  },
  {
   "cell_type": "code",
   "execution_count": null,
   "metadata": {},
   "outputs": [],
   "source": [
    "# Train the model\n",
    "lstm_model, lstm_history = train_model(lstm_model, X_train_bin, y_train_bin, X_test_bin, y_test_bin, epochs=10, batch_size=32)"
   ]
  },
  {
   "cell_type": "code",
   "execution_count": null,
   "metadata": {},
   "outputs": [],
   "source": [
    "# Plot training history\n",
    "plot_training_history(lstm_history)"
   ]
  },
  {
   "cell_type": "code",
   "execution_count": null,
   "metadata": {},
   "outputs": [],
   "source": [
    "# Evaluate the model\n",
    "accuracy, y_pred, report, conf_matrix = evaluate_binary_model(lstm_model, X_test_bin, y_test_bin)\n",
    "print_model_evaluation(accuracy, report, conf_matrix, class_names=['Healthy', 'Seizure'])"
   ]
  },
  {
   "cell_type": "markdown",
   "metadata": {},
   "source": [
    "## Binary Classification with BiLSTM Model"
   ]
  },
  {
   "cell_type": "code",
   "execution_count": null,
   "metadata": {},
   "outputs": [],
   "source": [
    "# Create the BiLSTM model for binary classification\n",
    "bilstm_model = create_bilstm_model(input_shape, num_classes=1)\n",
    "bilstm_model.summary()"
   ]
  },
  {
   "cell_type": "code",
   "execution_count": null,
   "metadata": {},
   "outputs": [],
   "source": [
    "# Train the model\n",
    "bilstm_model, bilstm_history = train_model(bilstm_model, X_train_bin, y_train_bin, X_test_bin, y_test_bin, epochs=10, batch_size=32)"
   ]
  },
  {
   "cell_type": "code",
   "execution_count": null,
   "metadata": {},
   "outputs": [],
   "source": [
    "# Plot training history\n",
    "plot_training_history(bilstm_history)"
   ]
  },
  {
   "cell_type": "code",
   "execution_count": null,
   "metadata": {},
   "outputs": [],
   "source": [
    "# Evaluate the model\n",
    "accuracy, y_pred, report, conf_matrix = evaluate_binary_model(bilstm_model, X_test_bin, y_test_bin)\n",
    "print_model_evaluation(accuracy, report, conf_matrix, class_names=['Healthy', 'Seizure'])"
   ]
  },
  {
   "cell_type": "markdown",
   "metadata": {},
   "source": [
    "## Binary Classification with CNN-LSTM Model"
   ]
  },
  {
   "cell_type": "code",
   "execution_count": null,
   "metadata": {},
   "outputs": [],
   "source": [
    "# Create the CNN-LSTM model for binary classification\n",
    "cnn_lstm_model = create_lstm_cnn_model(input_shape, num_classes=1)\n",
    "cnn_lstm_model.summary()"
   ]
  },
  {
   "cell_type": "code",
   "execution_count": null,
   "metadata": {},
   "outputs": [],
   "source": [
    "# Train the model\n",
    "cnn_lstm_model, cnn_lstm_history = train_model(cnn_lstm_model, X_train_bin, y_train_bin, X_test_bin, y_test_bin, epochs=10, batch_size=32)"
   ]
  },
  {
   "cell_type": "code",
   "execution_count": null,
   "metadata": {},
   "outputs": [],
   "source": [
    "# Plot training history\n",
    "plot_training_history(cnn_lstm_history)"
   ]
  },
  {
   "cell_type": "code",
   "execution_count": null,
   "metadata": {},
   "outputs": [],
   "source": [
    "# Evaluate the model\n",
    "accuracy, y_pred, report, conf_matrix = evaluate_binary_model(cnn_lstm_model, X_test_bin, y_test_bin)\n",
    "print_model_evaluation(accuracy, report, conf_matrix, class_names=['Healthy', 'Seizure'])"
   ]
  },
  {
   "cell_type": "markdown",
   "metadata": {},
   "source": [
    "## Multi-class Classification with CNN-LSTM Model"
   ]
  },
  {
   "cell_type": "code",
   "execution_count": null,
   "metadata": {},
   "outputs": [],
   "source": [
    "# Create the CNN-LSTM model for multi-class classification\n",
    "input_shape = (X_train_tri.shape[1], 1)  # (timesteps, features)\n",
    "tri_model = create_lstm_cnn_model(input_shape, num_classes=3)\n",
    "tri_model.summary()"
   ]
  },
  {
   "cell_type": "code",
   "execution_count": null,
   "metadata": {},
   "outputs": [],
   "source": [
    "# Train the model\n",
    "tri_model, tri_history = train_model(tri_model, X_train_tri, y_train_tri, X_test_tri, y_test_tri, epochs=10, batch_size=32)"
   ]
  },
  {
   "cell_type": "code",
   "execution_count": null,
   "metadata": {},
   "outputs": [],
   "source": [
    "# Plot training history\n",
    "plot_training_history(tri_history)"
   ]
  },
  {
   "cell_type": "code",
   "execution_count": null,
   "metadata": {},
   "outputs": [],
   "source": [
    "# Evaluate the model\n",
    "accuracy, y_pred, report, conf_matrix = evaluate_multiclass_model(tri_model, X_test_tri, y_test_tri)\n",
    "print_model_evaluation(accuracy, report, conf_matrix, class_names=['Healthy', 'Mild Seizure', 'Seizure'])"
   ]
  },
  {
   "cell_type": "markdown",
   "metadata": {},
   "source": [
    "## Conclusion\n",
    "\n",
    "This notebook demonstrates how to use the modular code structure for EEG classification. The modular approach makes the code more maintainable, reusable, and easier to understand. It also simplifies experimenting with different models and configurations."
   ]
  }
 ],
 "metadata": {
  "kernelspec": {
   "display_name": "Python 3",
   "language": "python",
   "name": "python3"
  },
  "language_info": {
   "codemirror_mode": {
    "name": "ipython",
    "version": 3
   },
   "file_extension": ".py",
   "mimetype": "text/x-python",
   "name": "python",
   "nbconvert_exporter": "python",
   "pygments_lexer": "ipython3",
   "version": "3.8.5"
  }
 },
 "nbformat": 4,
 "nbformat_minor": 4
}
